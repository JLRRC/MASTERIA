{
  "cells": [
    {
      "cell_type": "markdown",
      "metadata": {
        "id": "view-in-github",
        "colab_type": "text"
      },
      "source": [
        "<a href=\"https://colab.research.google.com/github/JLRRC/MASTERIA/blob/main/03MIAR%20Algoritmos%20de%20Optimizacio%CC%81n/seminario_algoritmos_Sesiones_de_doblaje.ipynb\" target=\"_parent\"><img src=\"https://colab.research.google.com/assets/colab-badge.svg\" alt=\"Open In Colab\"/></a>"
      ]
    },
    {
      "cell_type": "markdown",
      "metadata": {
        "id": "hVbXYX-RfPWh"
      },
      "source": [
        "# Algoritmos de optimización - Seminario - Sesiones de doblaje<br>\n",
        "**Nombre y Apellidos:** Jesús Lozano Rodríguez  <br>\n",
        "**Url:** JLRRC/MASTERIA/03MIAR_Algoritmos_de_Optimización/Seminario_Algoritmos.ipynb <br>\n",
        "Problema:\n",
        ">1. Sesiones de doblaje <br>\n",
        "\n",
        "**Descripción del problema:**\n",
        "\n",
        "**Problema 1. Organizar sesiones de doblaje**\n",
        "\n",
        "Se precisa coordinar el doblaje de una película. Los actores del doblaje deben coincidir en las\n",
        "tomas en las que sus personajes aparecen juntos en las diferentes tomas. Los actores de\n",
        "doblaje cobran toda la misma cantidad por cada día que deben desplazarse hasta el estudio de\n",
        "grabación independientemente del número de tomas que se graben. No es posible grabar más\n",
        "de 6 tomas por día. El objetivo es planificar las sesiones por día de manera que el gasto por los\n",
        "servicios de los actores de doblaje sea el menor posible. Los datos son:\n",
        "\n",
        "Número de actores: 10 <br>\n",
        "Número de tomas : 30 <br>\n",
        "Actores/Tomas : https://bit.ly/36D8IuK <br>\n",
        "- 1 indica que el actor participa en la toma <br>\n",
        "- 0 en caso contrario <br>\n",
        "\n",
        "(*) La respuesta es obligatoria\n",
        "                                        "
      ]
    },
    {
      "cell_type": "markdown",
      "metadata": {
        "id": "WfCUqJyKhPcw"
      },
      "source": [
        "**Respuesta**"
      ]
    },
    {
      "cell_type": "code",
      "execution_count": 7,
      "metadata": {
        "id": "iq6Fe32MgpDX",
        "colab": {
          "base_uri": "https://localhost:8080/"
        },
        "outputId": "233a640e-f51d-4822-8791-13570b3b0486"
      },
      "outputs": [
        {
          "output_type": "stream",
          "name": "stdout",
          "text": [
            "\n",
            "Planificación optimizada de sesiones de doblaje:\n",
            "   Día 1  Día 2  Día 3  Día 4  Día 5  Día 6  Día 7  Día 8  Día 9\n",
            "0    0.0      1    2.0    4.0    5.0    6.0    9.0    7.0    8.0\n",
            "1    NaN      3    NaN    NaN    NaN    NaN    NaN    NaN    NaN\n"
          ]
        }
      ],
      "source": [
        "#Heurística voraz con validación de factibilidad.\n",
        "#Es un problema de asignación combinatoria donde un algoritmo voraz bien diseñado puede encontrar\n",
        "#soluciones razonablemente óptimas en poco tiempo sin requerir métodos complejos como programación\n",
        "#entera o metaheurísticas costosas.\n",
        "\n",
        "import numpy as np\n",
        "import pandas as pd\n",
        "\n",
        "# Definir la matriz de participación de actores en las tomas\n",
        "matriz_tomas = [\n",
        "    [1, 1, 1, 1, 1, 0, 0, 0, 0, 0],\n",
        "    [0, 0, 1, 1, 1, 0, 0, 0, 0, 0],\n",
        "    [0, 1, 0, 1, 0, 1, 1, 0, 0, 0],\n",
        "    [1, 1, 0, 0, 0, 1, 1, 1, 0, 0],\n",
        "    [0, 1, 0, 1, 0, 0, 1, 1, 0, 0],\n",
        "    [1, 1, 0, 1, 1, 0, 0, 0, 0, 0],\n",
        "    [1, 1, 0, 1, 1, 0, 0, 0, 0, 0],\n",
        "    [1, 1, 0, 0, 1, 0, 0, 0, 0, 0],\n",
        "    [1, 1, 0, 1, 0, 0, 0, 0, 0, 0],\n",
        "    [1, 1, 0, 0, 1, 0, 0, 1, 0, 0],\n",
        "]\n",
        "\n",
        "# Convertimos la matriz en un array de numpy para facilitar cálculos\n",
        "matriz_tomas_np = np.array(matriz_tomas)\n",
        "\n",
        "# Conjunto de tomas que aún no han sido asignadas a un día\n",
        "tomas_pendientes = set(range(len(matriz_tomas)))\n",
        "\n",
        "# Lista donde se almacenarán los días y sus tomas asignadas\n",
        "dias = []\n",
        "\n",
        "# Algoritmo voraz para la asignación de tomas en días de grabación\n",
        "while tomas_pendientes:\n",
        "    dia_actual = set()\n",
        "\n",
        "    # Ordenamos tomas pendientes por la cantidad de actores involucrados\n",
        "    for toma in sorted(tomas_pendientes, key=lambda t: np.sum(matriz_tomas_np[t]), reverse=True):\n",
        "        # Condición: No más de 6 tomas por día y evitar conflictos de actores\n",
        "        if len(dia_actual) < 6 and (len(dia_actual) == 0 or np.all(matriz_tomas_np[list(dia_actual)].sum(axis=0) + matriz_tomas_np[toma] <= 1)):\n",
        "            dia_actual.add(toma)\n",
        "\n",
        "    # Guardamos la asignación del día\n",
        "    dias.append(sorted(dia_actual))\n",
        "\n",
        "    # Eliminamos las tomas ya asignadas\n",
        "    tomas_pendientes -= dia_actual\n",
        "\n",
        "# Crear un DataFrame con la planificación final\n",
        "dias_dict = {f\"Día {i+1}\": sesiones for i, sesiones in enumerate(dias)}\n",
        "df_doblaje = pd.DataFrame(dict([(k, pd.Series(v)) for k, v in dias_dict.items()]))\n",
        "\n",
        "# Mostrar la planificación\n",
        "print(\"\\nPlanificación optimizada de sesiones de doblaje:\")\n",
        "print(df_doblaje)"
      ]
    },
    {
      "cell_type": "markdown",
      "metadata": {
        "id": "dzynfVJahHoY"
      },
      "source": [
        "**Modelo para el espacio de soluciones**<br>\n",
        "**(*) 1.¿Cual es la estructura de datos que mejor se adapta al problema? Argumentalo.(Es posible que hayas elegido una al principio y veas la necesidad de cambiar, arguentalo)**\n"
      ]
    },
    {
      "cell_type": "markdown",
      "metadata": {
        "id": "xFIJrOwKi2Ti"
      },
      "source": [
        "**Respuesta**"
      ]
    },
    {
      "cell_type": "markdown",
      "metadata": {
        "id": "38c-7-ejhJmA"
      },
      "source": [
        "La mejor estructura de datos para este problema es una matriz binaria, donde las filas representan las tomas y las columnas representan los actores.\n",
        "* Cada celda de la matriz contiene un 1 si el actor participa en la toma y 0 en caso contrario.\n",
        "* Esto facilita la verificación de restricciones y la agrupación de tomas en sesiones óptimas.\n",
        "* Alternativamente, un grafo bipartito también podría ser útil, con actores y tomas como nodos y conexiones si un actor participa en una toma."
      ]
    },
    {
      "cell_type": "markdown",
      "metadata": {
        "id": "7Z9U2W7bi-XS"
      },
      "source": [
        "**Según el modelo para el espacio de soluciones**<br>\n",
        "**(*)2. ¿Cual es la función objetivo?**\n",
        "\n",
        "**(*)3. ¿Es un problema de maximización o minimización?**"
      ]
    },
    {
      "cell_type": "markdown",
      "metadata": {
        "id": "hBalWLM7j1_d"
      },
      "source": [
        "**Respuesta**"
      ]
    },
    {
      "cell_type": "markdown",
      "metadata": {
        "id": "pDA-rg3Gj5Lz"
      },
      "source": [
        "La función objetivo es minimizar el número de días de grabación, asegurando que cada actor solo participe cuando sea necesario para reducir costos.\n",
        "\n",
        "Es un problema de minimización, ya que buscamos reducir el número total de días de grabación."
      ]
    },
    {
      "cell_type": "markdown",
      "metadata": {
        "id": "rlnTYgY1j6I2"
      },
      "source": [
        "**4. Diseña un algoritmo para resolver el problema por fuerza bruta**"
      ]
    },
    {
      "cell_type": "markdown",
      "metadata": {
        "id": "70rDgxYXkC8r"
      },
      "source": [
        "**Respuesta**"
      ]
    },
    {
      "cell_type": "code",
      "execution_count": 2,
      "metadata": {
        "id": "CJb5sQ0qkENy"
      },
      "outputs": [],
      "source": [
        "# El enfoque de fuerza bruta probaría todas las posibles maneras de asignar las tomas a los días. Esto implicaría:\n",
        "#\t1.\tGenerar todas las combinaciones posibles de grupos de tomas que cumplan con la restricción de no más de 6 tomas por día.\n",
        "#\t2.\tVerificar en cada combinación que los actores coincidan correctamente.\n",
        "#\t3.\tElegir la asignación con el menor número de días.\n",
        "\n",
        "from itertools import permutations\n",
        "\n",
        "def fuerza_bruta(tomas, max_tomas_dia=6):\n",
        "    min_dias = float('inf')\n",
        "    mejor_asignacion = None\n",
        "\n",
        "    for perm in permutations(tomas):\n",
        "        dias = []\n",
        "        temp = []\n",
        "\n",
        "        for toma in perm:\n",
        "            if len(temp) < max_tomas_dia:\n",
        "                temp.append(toma)\n",
        "            else:\n",
        "                dias.append(temp)\n",
        "                temp = [toma]\n",
        "\n",
        "        if temp:\n",
        "            dias.append(temp)\n",
        "\n",
        "        if len(dias) < min_dias:\n",
        "            min_dias = len(dias)\n",
        "            mejor_asignacion = dias\n",
        "\n",
        "    return mejor_asignacion\n",
        "\n",
        "print(fuerza_bruta(list(range(30))))\n"
      ]
    },
    {
      "cell_type": "markdown",
      "metadata": {
        "id": "tgrnsC2nkFa8"
      },
      "source": [
        "**5. Calcula la complejidad del algoritmo por fuerza bruta**"
      ]
    },
    {
      "cell_type": "markdown",
      "metadata": {
        "id": "9eUd3xwckP68"
      },
      "source": [
        "**Respuesta**"
      ]
    },
    {
      "cell_type": "markdown",
      "metadata": {
        "id": "rvZWwL-ckRST"
      },
      "source": [
        "El algoritmo de fuerza bruta genera todas las permutaciones posibles de tomas y las agrupa en días, por lo que su complejidad es O(n!) (factorial). Es completamente impracticable para más de 10-12 tomas."
      ]
    },
    {
      "cell_type": "markdown",
      "metadata": {
        "id": "txbrmLmskReM"
      },
      "source": [
        "**(*)6. Diseña un algoritmo que mejore la complejidad del algortimo por fuerza bruta. Argumenta porque crees que mejora el algoritmo por fuerza bruta**"
      ]
    },
    {
      "cell_type": "markdown",
      "metadata": {
        "id": "hLrVwt5QkZPD"
      },
      "source": [
        "**Respuesta**"
      ]
    },
    {
      "cell_type": "code",
      "execution_count": 8,
      "metadata": {
        "id": "m1eyM21Vkabg",
        "colab": {
          "base_uri": "https://localhost:8080/"
        },
        "outputId": "e2944b23-e191-4e62-8375-6fa24cd4b8ba"
      },
      "outputs": [
        {
          "output_type": "stream",
          "name": "stdout",
          "text": [
            "[[23], [5, 9], [11], [4], [13], [22], [0], [1], [6], [12], [28], [8], [10, 27], [14], [17, 19], [18], [20, 21], [24], [29], [2], [3], [15, 16], [26], [7], [25]]\n"
          ]
        }
      ],
      "source": [
        "#Podemos usar un algoritmo heurístico voraz, donde:\n",
        "#\t1.\tSe ordenan las tomas según el número de actores involucrados.\n",
        "#\t2.\tSe asignan iterativamente en días respetando la restricción de 6 tomas por día.\n",
        "#\t3.\tSe verifica que los actores no se repitan en diferentes días innecesariamente.\n",
        "import numpy as np\n",
        "\n",
        "def heuristica_voraz(matriz_tomas):\n",
        "    tomas_pendientes = set(range(len(matriz_tomas)))\n",
        "    dias = []\n",
        "\n",
        "    while tomas_pendientes:\n",
        "        dia_actual = set()\n",
        "\n",
        "        for toma in sorted(tomas_pendientes, key=lambda t: np.sum(matriz_tomas[t]), reverse=True):\n",
        "            if len(dia_actual) < 6 and np.all(matriz_tomas[list(dia_actual)].sum(axis=0) + matriz_tomas[toma] <= 1):\n",
        "                dia_actual.add(toma)\n",
        "\n",
        "        dias.append(sorted(dia_actual))\n",
        "        tomas_pendientes -= dia_actual\n",
        "\n",
        "    return dias\n",
        "\n",
        "# Ejecutar el algoritmo\n",
        "matriz_tomas = np.random.randint(0, 2, (30, 10))  # Simulación de la matriz\n",
        "print(heuristica_voraz(matriz_tomas))"
      ]
    },
    {
      "cell_type": "markdown",
      "metadata": {
        "id": "eGDB4K6uk1iN"
      },
      "source": [
        "**(*)7. Calcula la complejidad del algoritmo**"
      ]
    },
    {
      "cell_type": "markdown",
      "metadata": {
        "id": "NhpTh_BPk1ms"
      },
      "source": [
        "**Respuesta**"
      ]
    },
    {
      "cell_type": "markdown",
      "metadata": {
        "id": "nREzhkStlCq8"
      },
      "source": [
        "La heurística voraz tiene una complejidad de O(n² log n) debido a la ordenación inicial de las tomas en O(n log n), seguida de la asignación iterativa de tomas en O(n²) en el peor caso. Además, la verificación de restricciones de compatibilidad tiene un costo de O(m), lo que puede influir dependiendo del problema.\n",
        "\n",
        "Esto representa una mejora significativa respecto a la complejidad de O(n!) de la fuerza bruta, que evaluaría todas las posibles asignaciones de tomas a días."
      ]
    },
    {
      "cell_type": "markdown",
      "metadata": {
        "id": "3M6QjTsSkmYe"
      },
      "source": [
        "**8. Según el problema (y tenga sentido), diseña un juego de datos de entrada aleatorios**"
      ]
    },
    {
      "cell_type": "markdown",
      "metadata": {
        "id": "Jc3_OlyNkvjZ"
      },
      "source": [
        "**Respuesta**"
      ]
    },
    {
      "cell_type": "code",
      "execution_count": 5,
      "metadata": {
        "id": "sJ-N2etjkyWc",
        "colab": {
          "base_uri": "https://localhost:8080/"
        },
        "outputId": "38df6b09-9680-4e49-c27a-aabf55cf10a0"
      },
      "outputs": [
        {
          "output_type": "stream",
          "name": "stdout",
          "text": [
            "[[0 0 1 1 1 0 1 0 0 0]\n",
            " [1 0 1 1 0 1 0 0 1 0]\n",
            " [0 0 0 1 0 1 0 0 1 0]\n",
            " [0 0 0 1 1 1 0 1 0 0]\n",
            " [0 0 1 1 0 0 1 0 1 0]\n",
            " [0 1 1 0 0 0 1 0 1 0]\n",
            " [1 0 0 1 0 1 1 1 1 1]\n",
            " [0 1 0 1 1 1 1 1 1 0]\n",
            " [0 1 1 1 1 0 1 1 1 1]\n",
            " [1 0 0 1 0 1 0 0 1 0]\n",
            " [1 1 0 0 0 0 0 1 1 1]\n",
            " [0 1 0 0 1 1 1 1 0 0]\n",
            " [1 0 0 0 0 1 1 1 0 1]\n",
            " [0 0 1 1 0 1 1 0 1 0]\n",
            " [0 1 1 1 1 1 0 1 1 1]\n",
            " [1 0 1 1 1 0 0 0 0 0]\n",
            " [1 1 1 0 1 0 0 1 1 1]\n",
            " [0 0 1 1 0 1 1 1 0 1]\n",
            " [1 1 0 1 1 0 0 1 1 0]\n",
            " [1 0 0 0 0 1 1 0 1 0]\n",
            " [0 0 0 1 0 0 0 0 0 1]\n",
            " [0 0 1 0 1 1 0 1 0 1]\n",
            " [0 1 0 0 0 1 0 1 0 1]\n",
            " [0 1 0 0 0 1 1 0 0 1]\n",
            " [1 0 1 0 1 0 0 0 0 1]\n",
            " [0 0 1 1 1 1 1 0 1 1]\n",
            " [1 1 1 0 0 1 1 0 1 1]\n",
            " [0 0 1 1 0 1 1 1 0 1]\n",
            " [0 1 1 0 1 1 0 1 1 0]\n",
            " [1 0 0 1 0 1 1 0 0 1]]\n"
          ]
        }
      ],
      "source": [
        "#Podemos generar una matriz binaria aleatoria de 30 tomas y 10 actores:\n",
        "import numpy as np\n",
        "\n",
        "def generar_datos():\n",
        "    return np.random.randint(0, 2, (30, 10))\n",
        "\n",
        "datos = generar_datos()\n",
        "print(datos)"
      ]
    },
    {
      "cell_type": "markdown",
      "metadata": {
        "id": "zy5ZROmjlGo1"
      },
      "source": [
        "**9. Aplica el algoritmo al juego de datos generado**"
      ]
    },
    {
      "cell_type": "markdown",
      "metadata": {
        "id": "_Cmj-PVylMsa"
      },
      "source": [
        "**Respuesta**"
      ]
    },
    {
      "cell_type": "code",
      "execution_count": 6,
      "metadata": {
        "id": "Jkx8GeiYlUz1",
        "colab": {
          "base_uri": "https://localhost:8080/"
        },
        "outputId": "7ce9bf82-8e50-4d9e-ef78-3755c0bf2b33"
      },
      "outputs": [
        {
          "output_type": "stream",
          "name": "stdout",
          "text": [
            "[[8], [14], [6], [7], [16], [25], [26], [17], [18], [27], [20, 28], [1], [0, 10], [11], [12], [13], [21], [29], [3, 5], [4, 22], [9], [15, 23], [19], [2, 24]]\n"
          ]
        }
      ],
      "source": [
        "resultado = heuristica_voraz(datos)\n",
        "print(resultado)"
      ]
    },
    {
      "cell_type": "markdown",
      "metadata": {
        "id": "eTFWUJQrtGcv"
      },
      "source": [
        "**10. Enumera las referencias que has utilizado(si ha sido necesario) para llevar a cabo el trabajo**"
      ]
    },
    {
      "cell_type": "markdown",
      "metadata": {
        "id": "YKQ_mRBttWsP"
      },
      "source": [
        "**Respuesta**"
      ]
    },
    {
      "cell_type": "markdown",
      "metadata": {
        "id": "EVG7_Y_6t8r-"
      },
      "source": [
        "* Documentación de NumPy y Pandas.\n",
        "* Notas del curso sobre heurísticas.\n",
        "* Implementaciones de algoritmos voraces en optimización combinatoria."
      ]
    },
    {
      "cell_type": "markdown",
      "metadata": {
        "id": "kAkDPUyRtYyH"
      },
      "source": [
        "**11. Describe brevemente las lineas de como crees que es posible avanzar en el estudio del problema. Ten en cuenta incluso posibles variaciones del problema y/o variaciones al alza del tamaño**"
      ]
    },
    {
      "cell_type": "markdown",
      "metadata": {
        "id": "IE0uZmo-tZu-"
      },
      "source": [
        "**Respuesta**"
      ]
    },
    {
      "cell_type": "markdown",
      "metadata": {
        "id": "rHxy83U0t8r-"
      },
      "source": [
        "* Se podría usar Programación Entera para obtener una solución óptima garantizada.\n",
        "* Se pueden probar metaheurísticas como búsqueda tabú o recocido simulado para mejorar la solución.\n",
        "* Si el problema escala, podría aplicarse aprendizaje automático para predecir la mejor agrupación de tomas."
      ]
    },
    {
      "cell_type": "code",
      "execution_count": null,
      "metadata": {
        "id": "-Fd7m1Bzt8r-"
      },
      "outputs": [],
      "source": []
    }
  ],
  "metadata": {
    "colab": {
      "provenance": [],
      "name": "seminario_algoritmos_Sesiones de doblaje.ipynb",
      "include_colab_link": true
    },
    "kernelspec": {
      "display_name": "Python 3 (ipykernel)",
      "language": "python",
      "name": "python3"
    },
    "language_info": {
      "codemirror_mode": {
        "name": "ipython",
        "version": 3
      },
      "file_extension": ".py",
      "mimetype": "text/x-python",
      "name": "python",
      "nbconvert_exporter": "python",
      "pygments_lexer": "ipython3",
      "version": "3.9.21"
    }
  },
  "nbformat": 4,
  "nbformat_minor": 0
}